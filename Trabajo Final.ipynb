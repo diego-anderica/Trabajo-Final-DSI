{
 "cells": [
  {
   "cell_type": "markdown",
   "metadata": {},
   "source": [
    "# Trabajo Final\n",
    "El objetivo de este trabajo es la realización de una serie de hitos, de acuerdo a lo descrito en el artículo \"*A comparative study of machine learning classifiers for modeling travel mode choice*\", que servirá de base para llevar a cabo lo requerido en cada uno de dichos hitos.\n",
    "\n",
    "Para la tarea de predicción, puesto que es necesario decidir un método a utilizar de manera libre, se ha decidido usar el método de *Naive-Bayes* (NB)."
   ]
  },
  {
   "cell_type": "markdown",
   "metadata": {},
   "source": [
    "## Lectura y Visualización de los Datos\n",
    "Antes de comenzar a trabajar con los datos proporcionados, se debe comenzar viendo cómo se encuentran orgnizados dentro del archivo. Para ello, se cargará dicho archivo y se procederá a la obtención de algunos datos a partir de este, como la cantidad de elementos, características o los diferentes valores que toman."
   ]
  },
  {
   "cell_type": "code",
   "execution_count": 1,
   "metadata": {},
   "outputs": [],
   "source": [
    "# Importación del paquete Pandas para la lectura del archivo.\n",
    "import pandas as pd"
   ]
  },
  {
   "cell_type": "code",
   "execution_count": 2,
   "metadata": {},
   "outputs": [],
   "source": [
    "# Carga del archivo con los datos.\n",
    "data = pd.read_csv(\"./nts_data.csv\")"
   ]
  },
  {
   "cell_type": "code",
   "execution_count": 3,
   "metadata": {},
   "outputs": [
    {
     "data": {
      "text/html": [
       "<div>\n",
       "<style scoped>\n",
       "    .dataframe tbody tr th:only-of-type {\n",
       "        vertical-align: middle;\n",
       "    }\n",
       "\n",
       "    .dataframe tbody tr th {\n",
       "        vertical-align: top;\n",
       "    }\n",
       "\n",
       "    .dataframe thead th {\n",
       "        text-align: right;\n",
       "    }\n",
       "</style>\n",
       "<table border=\"1\" class=\"dataframe\">\n",
       "  <thead>\n",
       "    <tr style=\"text-align: right;\">\n",
       "      <th></th>\n",
       "      <th>mode_main</th>\n",
       "      <th>distance</th>\n",
       "      <th>density</th>\n",
       "      <th>age</th>\n",
       "      <th>male</th>\n",
       "      <th>ethnicity</th>\n",
       "      <th>education</th>\n",
       "      <th>income</th>\n",
       "      <th>cars</th>\n",
       "      <th>license</th>\n",
       "      <th>bicycles</th>\n",
       "      <th>weekend</th>\n",
       "      <th>diversity</th>\n",
       "      <th>green</th>\n",
       "      <th>temp</th>\n",
       "      <th>precip</th>\n",
       "      <th>wind</th>\n",
       "    </tr>\n",
       "  </thead>\n",
       "  <tbody>\n",
       "    <tr>\n",
       "      <th>0</th>\n",
       "      <td>walk</td>\n",
       "      <td>1.0</td>\n",
       "      <td>1.26259</td>\n",
       "      <td>84</td>\n",
       "      <td>no</td>\n",
       "      <td>native</td>\n",
       "      <td>lower</td>\n",
       "      <td>less20</td>\n",
       "      <td>0</td>\n",
       "      <td>yes</td>\n",
       "      <td>1</td>\n",
       "      <td>yes</td>\n",
       "      <td>1.24604</td>\n",
       "      <td>26.881233</td>\n",
       "      <td>0.1</td>\n",
       "      <td>0.10</td>\n",
       "      <td>3.0</td>\n",
       "    </tr>\n",
       "    <tr>\n",
       "      <th>1</th>\n",
       "      <td>walk</td>\n",
       "      <td>10.0</td>\n",
       "      <td>1.26259</td>\n",
       "      <td>84</td>\n",
       "      <td>no</td>\n",
       "      <td>native</td>\n",
       "      <td>lower</td>\n",
       "      <td>less20</td>\n",
       "      <td>0</td>\n",
       "      <td>yes</td>\n",
       "      <td>1</td>\n",
       "      <td>yes</td>\n",
       "      <td>1.24604</td>\n",
       "      <td>26.881233</td>\n",
       "      <td>0.1</td>\n",
       "      <td>0.10</td>\n",
       "      <td>3.0</td>\n",
       "    </tr>\n",
       "    <tr>\n",
       "      <th>2</th>\n",
       "      <td>car</td>\n",
       "      <td>3.0</td>\n",
       "      <td>1.76264</td>\n",
       "      <td>27</td>\n",
       "      <td>yes</td>\n",
       "      <td>western</td>\n",
       "      <td>middle</td>\n",
       "      <td>20to40</td>\n",
       "      <td>1</td>\n",
       "      <td>yes</td>\n",
       "      <td>2</td>\n",
       "      <td>yes</td>\n",
       "      <td>1.53959</td>\n",
       "      <td>36.045955</td>\n",
       "      <td>-3.4</td>\n",
       "      <td>0.05</td>\n",
       "      <td>1.8</td>\n",
       "    </tr>\n",
       "    <tr>\n",
       "      <th>3</th>\n",
       "      <td>car</td>\n",
       "      <td>3.0</td>\n",
       "      <td>1.76264</td>\n",
       "      <td>27</td>\n",
       "      <td>yes</td>\n",
       "      <td>western</td>\n",
       "      <td>middle</td>\n",
       "      <td>20to40</td>\n",
       "      <td>1</td>\n",
       "      <td>yes</td>\n",
       "      <td>2</td>\n",
       "      <td>yes</td>\n",
       "      <td>1.53959</td>\n",
       "      <td>36.045955</td>\n",
       "      <td>-3.4</td>\n",
       "      <td>0.05</td>\n",
       "      <td>1.8</td>\n",
       "    </tr>\n",
       "    <tr>\n",
       "      <th>4</th>\n",
       "      <td>car</td>\n",
       "      <td>61.5</td>\n",
       "      <td>1.76264</td>\n",
       "      <td>27</td>\n",
       "      <td>yes</td>\n",
       "      <td>western</td>\n",
       "      <td>middle</td>\n",
       "      <td>20to40</td>\n",
       "      <td>1</td>\n",
       "      <td>yes</td>\n",
       "      <td>2</td>\n",
       "      <td>yes</td>\n",
       "      <td>1.53959</td>\n",
       "      <td>36.045955</td>\n",
       "      <td>-3.4</td>\n",
       "      <td>0.05</td>\n",
       "      <td>1.8</td>\n",
       "    </tr>\n",
       "  </tbody>\n",
       "</table>\n",
       "</div>"
      ],
      "text/plain": [
       "  mode_main  distance  density  age male ethnicity education  income  cars  \\\n",
       "0      walk       1.0  1.26259   84   no    native     lower  less20     0   \n",
       "1      walk      10.0  1.26259   84   no    native     lower  less20     0   \n",
       "2       car       3.0  1.76264   27  yes   western    middle  20to40     1   \n",
       "3       car       3.0  1.76264   27  yes   western    middle  20to40     1   \n",
       "4       car      61.5  1.76264   27  yes   western    middle  20to40     1   \n",
       "\n",
       "  license  bicycles weekend  diversity      green  temp  precip  wind  \n",
       "0     yes         1     yes    1.24604  26.881233   0.1    0.10   3.0  \n",
       "1     yes         1     yes    1.24604  26.881233   0.1    0.10   3.0  \n",
       "2     yes         2     yes    1.53959  36.045955  -3.4    0.05   1.8  \n",
       "3     yes         2     yes    1.53959  36.045955  -3.4    0.05   1.8  \n",
       "4     yes         2     yes    1.53959  36.045955  -3.4    0.05   1.8  "
      ]
     },
     "execution_count": 3,
     "metadata": {},
     "output_type": "execute_result"
    }
   ],
   "source": [
    "# Visualización de los primeros elementos.\n",
    "data.head(5)"
   ]
  },
  {
   "cell_type": "code",
   "execution_count": 4,
   "metadata": {},
   "outputs": [
    {
     "name": "stdout",
     "output_type": "stream",
     "text": [
      "Características iniciales: 17\n",
      "Elementos totales: 230608\n"
     ]
    }
   ],
   "source": [
    "print (\"Características iniciales: \" + str(len(data.columns)))\n",
    "print (\"Elementos totales: \" + str(len(data.index)))"
   ]
  },
  {
   "cell_type": "code",
   "execution_count": 5,
   "metadata": {},
   "outputs": [
    {
     "data": {
      "text/plain": [
       "mode_main     object\n",
       "distance     float64\n",
       "density      float64\n",
       "age            int64\n",
       "male          object\n",
       "ethnicity     object\n",
       "education     object\n",
       "income        object\n",
       "cars           int64\n",
       "license       object\n",
       "bicycles       int64\n",
       "weekend       object\n",
       "diversity    float64\n",
       "green        float64\n",
       "temp         float64\n",
       "precip       float64\n",
       "wind         float64\n",
       "dtype: object"
      ]
     },
     "execution_count": 5,
     "metadata": {},
     "output_type": "execute_result"
    }
   ],
   "source": [
    "# Visualización de los tipos de datos contenidos en el archivo.\n",
    "data.dtypes"
   ]
  },
  {
   "cell_type": "markdown",
   "metadata": {},
   "source": [
    "Como se puede observar en el resultado de la ejecución de código anterior, existen diferentes tipos de valores en el archivo. No todos son de tipo cuantitativo, sino que también se encuentran datos de tipo cualitativo. Estos datos deberán transformarse para su posterior tratamiento a lo largo de este trabajo."
   ]
  },
  {
   "cell_type": "code",
   "execution_count": 6,
   "metadata": {},
   "outputs": [
    {
     "name": "stdout",
     "output_type": "stream",
     "text": [
      "Valores diferentes para la característica 'mode_main':\n",
      "car     127439\n",
      "bike     56298\n",
      "walk     37571\n",
      "pt        9300\n",
      "Name: mode_main, dtype: int64\n",
      "\n",
      "\n",
      "Valores diferentes para la característica 'male':\n",
      "no     125676\n",
      "yes    104932\n",
      "Name: male, dtype: int64\n",
      "\n",
      "\n",
      "Valores diferentes para la característica 'ethnicity':\n",
      "native        201561\n",
      "western        17772\n",
      "nonwestern     11275\n",
      "Name: ethnicity, dtype: int64\n",
      "\n",
      "\n",
      "Valores diferentes para la característica 'education':\n",
      "middle    88306\n",
      "higher    79185\n",
      "lower     63117\n",
      "Name: education, dtype: int64\n",
      "\n",
      "\n",
      "Valores diferentes para la característica 'income':\n",
      "more40    106182\n",
      "20to40     97140\n",
      "less20     27286\n",
      "Name: income, dtype: int64\n",
      "\n",
      "\n",
      "Valores diferentes para la característica 'license':\n",
      "yes    206986\n",
      "no      23622\n",
      "Name: license, dtype: int64\n",
      "\n",
      "\n",
      "Valores diferentes para la característica 'weekend':\n",
      "no     189250\n",
      "yes     41358\n",
      "Name: weekend, dtype: int64\n"
     ]
    }
   ],
   "source": [
    "# Visualización de las variables cualitativas junto con el total de los diferentes valores que toma cada una.\n",
    "catchar = list(data.select_dtypes(include=['object']))\n",
    "\n",
    "for value in range(len(catchar)):\n",
    "    print (\"Valores diferentes para la característica '\" + catchar[value] + \"':\")\n",
    "    print data[catchar[value]].value_counts()\n",
    "    \n",
    "    if value != len(catchar) - 1:\n",
    "        print (\"\\n\")"
   ]
  },
  {
   "cell_type": "markdown",
   "metadata": {},
   "source": [
    "Como resultado, se puede observar que no existen datos nulos, por lo que no es necesario el tratamiento de estos."
   ]
  },
  {
   "cell_type": "code",
   "execution_count": 7,
   "metadata": {},
   "outputs": [
    {
     "data": {
      "text/html": [
       "<div>\n",
       "<style scoped>\n",
       "    .dataframe tbody tr th:only-of-type {\n",
       "        vertical-align: middle;\n",
       "    }\n",
       "\n",
       "    .dataframe tbody tr th {\n",
       "        vertical-align: top;\n",
       "    }\n",
       "\n",
       "    .dataframe thead th {\n",
       "        text-align: right;\n",
       "    }\n",
       "</style>\n",
       "<table border=\"1\" class=\"dataframe\">\n",
       "  <thead>\n",
       "    <tr style=\"text-align: right;\">\n",
       "      <th></th>\n",
       "      <th>count</th>\n",
       "      <th>mean</th>\n",
       "      <th>std</th>\n",
       "      <th>min</th>\n",
       "      <th>25%</th>\n",
       "      <th>50%</th>\n",
       "      <th>75%</th>\n",
       "      <th>max</th>\n",
       "    </tr>\n",
       "  </thead>\n",
       "  <tbody>\n",
       "    <tr>\n",
       "      <th>distance</th>\n",
       "      <td>230608.0</td>\n",
       "      <td>12.217913</td>\n",
       "      <td>23.545686</td>\n",
       "      <td>0.10000</td>\n",
       "      <td>1.50000</td>\n",
       "      <td>4.000000</td>\n",
       "      <td>12.000000</td>\n",
       "      <td>400.000000</td>\n",
       "    </tr>\n",
       "    <tr>\n",
       "      <th>density</th>\n",
       "      <td>230608.0</td>\n",
       "      <td>1.569055</td>\n",
       "      <td>1.593292</td>\n",
       "      <td>0.00184</td>\n",
       "      <td>0.59132</td>\n",
       "      <td>1.153210</td>\n",
       "      <td>1.952960</td>\n",
       "      <td>11.442960</td>\n",
       "    </tr>\n",
       "    <tr>\n",
       "      <th>age</th>\n",
       "      <td>230608.0</td>\n",
       "      <td>47.661356</td>\n",
       "      <td>15.934884</td>\n",
       "      <td>18.00000</td>\n",
       "      <td>36.00000</td>\n",
       "      <td>47.000000</td>\n",
       "      <td>60.000000</td>\n",
       "      <td>98.000000</td>\n",
       "    </tr>\n",
       "    <tr>\n",
       "      <th>cars</th>\n",
       "      <td>230608.0</td>\n",
       "      <td>1.382584</td>\n",
       "      <td>0.822056</td>\n",
       "      <td>0.00000</td>\n",
       "      <td>1.00000</td>\n",
       "      <td>1.000000</td>\n",
       "      <td>2.000000</td>\n",
       "      <td>10.000000</td>\n",
       "    </tr>\n",
       "    <tr>\n",
       "      <th>bicycles</th>\n",
       "      <td>230608.0</td>\n",
       "      <td>3.357134</td>\n",
       "      <td>1.936614</td>\n",
       "      <td>0.00000</td>\n",
       "      <td>2.00000</td>\n",
       "      <td>3.000000</td>\n",
       "      <td>4.000000</td>\n",
       "      <td>10.000000</td>\n",
       "    </tr>\n",
       "    <tr>\n",
       "      <th>diversity</th>\n",
       "      <td>230608.0</td>\n",
       "      <td>1.774927</td>\n",
       "      <td>0.493037</td>\n",
       "      <td>0.00000</td>\n",
       "      <td>1.38894</td>\n",
       "      <td>1.827390</td>\n",
       "      <td>2.172380</td>\n",
       "      <td>2.827560</td>\n",
       "    </tr>\n",
       "    <tr>\n",
       "      <th>green</th>\n",
       "      <td>230608.0</td>\n",
       "      <td>54.939470</td>\n",
       "      <td>22.172372</td>\n",
       "      <td>0.00000</td>\n",
       "      <td>37.11120</td>\n",
       "      <td>54.102123</td>\n",
       "      <td>74.381844</td>\n",
       "      <td>97.813002</td>\n",
       "    </tr>\n",
       "    <tr>\n",
       "      <th>temp</th>\n",
       "      <td>230608.0</td>\n",
       "      <td>13.316930</td>\n",
       "      <td>7.565732</td>\n",
       "      <td>-9.00000</td>\n",
       "      <td>8.00000</td>\n",
       "      <td>13.400000</td>\n",
       "      <td>19.000000</td>\n",
       "      <td>35.900000</td>\n",
       "    </tr>\n",
       "    <tr>\n",
       "      <th>precip</th>\n",
       "      <td>230608.0</td>\n",
       "      <td>2.184633</td>\n",
       "      <td>4.674801</td>\n",
       "      <td>0.00000</td>\n",
       "      <td>0.00000</td>\n",
       "      <td>0.100000</td>\n",
       "      <td>2.300000</td>\n",
       "      <td>142.300000</td>\n",
       "    </tr>\n",
       "    <tr>\n",
       "      <th>wind</th>\n",
       "      <td>230608.0</td>\n",
       "      <td>4.097702</td>\n",
       "      <td>1.914821</td>\n",
       "      <td>0.40000</td>\n",
       "      <td>2.70000</td>\n",
       "      <td>3.800000</td>\n",
       "      <td>5.100000</td>\n",
       "      <td>16.300000</td>\n",
       "    </tr>\n",
       "  </tbody>\n",
       "</table>\n",
       "</div>"
      ],
      "text/plain": [
       "              count       mean        std       min       25%        50%  \\\n",
       "distance   230608.0  12.217913  23.545686   0.10000   1.50000   4.000000   \n",
       "density    230608.0   1.569055   1.593292   0.00184   0.59132   1.153210   \n",
       "age        230608.0  47.661356  15.934884  18.00000  36.00000  47.000000   \n",
       "cars       230608.0   1.382584   0.822056   0.00000   1.00000   1.000000   \n",
       "bicycles   230608.0   3.357134   1.936614   0.00000   2.00000   3.000000   \n",
       "diversity  230608.0   1.774927   0.493037   0.00000   1.38894   1.827390   \n",
       "green      230608.0  54.939470  22.172372   0.00000  37.11120  54.102123   \n",
       "temp       230608.0  13.316930   7.565732  -9.00000   8.00000  13.400000   \n",
       "precip     230608.0   2.184633   4.674801   0.00000   0.00000   0.100000   \n",
       "wind       230608.0   4.097702   1.914821   0.40000   2.70000   3.800000   \n",
       "\n",
       "                 75%         max  \n",
       "distance   12.000000  400.000000  \n",
       "density     1.952960   11.442960  \n",
       "age        60.000000   98.000000  \n",
       "cars        2.000000   10.000000  \n",
       "bicycles    4.000000   10.000000  \n",
       "diversity   2.172380    2.827560  \n",
       "green      74.381844   97.813002  \n",
       "temp       19.000000   35.900000  \n",
       "precip      2.300000  142.300000  \n",
       "wind        5.100000   16.300000  "
      ]
     },
     "execution_count": 7,
     "metadata": {},
     "output_type": "execute_result"
    }
   ],
   "source": [
    "# Obtención de datos estadísticos de las variables cuantitativas iniciales.\n",
    "data.describe().transpose()"
   ]
  },
  {
   "cell_type": "markdown",
   "metadata": {},
   "source": [
    "## Tratamiento y Graficado de los Datos Iniciales\n",
    "En primer lugar, se procederá a graficar los histogramas para las diferentes características, de manera que se pueda visualizar cómo se encuentran distribuidos sus valores. La realización de este prodecimiento se debe a que en la tabla estadística se han detectado que algunas características como la distancia o la densidad tienen valores máximos muy alejados de la media."
   ]
  },
  {
   "cell_type": "code",
   "execution_count": 8,
   "metadata": {},
   "outputs": [],
   "source": [
    "# Importación de paquetes necesarios para la representación gráfica de los datos.\n",
    "import matplotlib.pyplot as plt\n",
    "import seaborn as sb"
   ]
  },
  {
   "cell_type": "code",
   "execution_count": 9,
   "metadata": {},
   "outputs": [
    {
     "data": {
      "image/png": "[encoded data removed]",
      "text/plain": [
       "<Figure size 432x288 with 12 Axes>"
      ]
     },
     "metadata": {
      "needs_background": "light"
     },
     "output_type": "display_data"
    }
   ],
   "source": [
    "# Visualización de los valores del dataset\n",
    "data.hist()\n",
    "plt.show()"
   ]
  },
  {
   "cell_type": "markdown",
   "metadata": {},
   "source": [
    "Como se puede observar, algunas de las variables poseen valores distribuidos de manera más homogénea que otras. Una vez que se dispone de una visualización rápida de los datos, se procede a realizar algunas transformaciones para la homogeneización de estos. Puesto que existen valores categóricos en alguna de las características, se realizará a su transformación numérica con respecto a unas reglas que se explican a continuación.\n",
    "\n",
    "En el caso de que sean características cuyos valores tomen valores 'sí'/'no', se asignarán valores numéricos '1'/'0', respectivamente.\n",
    "\n",
    "Por otra parte, en el caso de que las características tengan diferentes valores, se asignarán valores ascendentes (1, 2, 3, ...). De esta manera, aunque las características 'mode_main' o 'ethnicity' simplemente se clasificaran en la homogeneización, otras como 'education' e 'income' se verían mejor representadas, ya que conforme el nivel de educación o de ingresos sea mayor, el valor irá en aumento consecuentemente."
   ]
  },
  {
   "cell_type": "code",
   "execution_count": 10,
   "metadata": {},
   "outputs": [],
   "source": [
    "# Transformación de las características binarias (sí-no).\n",
    "data['male'] = data['male'].map({'yes': 1, 'no': 0})\n",
    "data['license'] = data['license'].map({'yes': 1, 'no': 0})\n",
    "data['weekend'] = data['weekend'].map({'yes': 1, 'no': 0})"
   ]
  },
  {
   "cell_type": "code",
   "execution_count": 11,
   "metadata": {},
   "outputs": [],
   "source": [
    "# Transformación del resto de características no numéricas.\n",
    "data['mode_main'] = data['mode_main'].map({'bike': 1, 'car': 2, 'pt': 3, 'walk': 4})\n",
    "data['ethnicity'] = data['ethnicity'].map({'native': 1, 'nonwestern': 2, 'western': 3})\n",
    "data['education'] = data['education'].map({'lower': 1, 'middle': 2, 'higher': 3})\n",
    "data['income'] = data['income'].map({'less20': 1, '20to40': 2, 'more40': 3})"
   ]
  },
  {
   "cell_type": "markdown",
   "metadata": {},
   "source": [
    "# Hito 1\n",
    "Usando la misma parametrización del clasificador que la descrita en el artículo estimar la precisión y sensibilidad del clasificador empleando *10-fold cross validation* y balanceamiento de datos. ¿Se reproducen los valores recogidos en el artículo?"
   ]
  },
  {
   "cell_type": "markdown",
   "metadata": {},
   "source": [
    "El método de NB calcula probabilidades de clase utilizando el teroema de Bayes suponiendo que las características son independientes. No obstante, para calcular probabilidades a partir de características continuas, se deben establecer sus distribuciones de probabilidad. Normalmente, esto se lleva a cabo utilizando *kernel density estimation*. En el estudio, se usa un **factor de corrección de Laplace de 0.001** que, en el código, se ve traducido al parámetro *var_smoothing*.\n",
    "\n",
    "Teniendo esta información extraída del artículo relacionado, se puede proceder a construir el modelo con el parámetro indicado."
   ]
  },
  {
   "cell_type": "code",
   "execution_count": 12,
   "metadata": {},
   "outputs": [],
   "source": [
    "# Selección de características a utilizar y 'target'\n",
    "pred_caract = ['distance', 'density', 'age', 'male', 'ethnicity', 'education', 'income', 'cars', 'license',\n",
    "               'bicycles', 'weekend', 'diversity', 'green', 'temp', 'precip', 'wind']\n",
    "target = ['mode_main']"
   ]
  },
  {
   "cell_type": "code",
   "execution_count": 13,
   "metadata": {},
   "outputs": [],
   "source": [
    "# Extracción de muestra aleatoria de 100.000 elementos\n",
    "# data_sample = data.sample(n=100000, random_state=0)"
   ]
  },
  {
   "cell_type": "code",
   "execution_count": 14,
   "metadata": {},
   "outputs": [],
   "source": [
    "# Extracción de las características que se utilizarán para la predicción.\n",
    "# X = data_sample[pred_caract]\n",
    "\n",
    "# Extracción de la característica a ser predicha (mode_main).\n",
    "# y = data_sample[target]"
   ]
  },
  {
   "cell_type": "code",
   "execution_count": 15,
   "metadata": {},
   "outputs": [],
   "source": [
    "# Importación del paquete necesario para dividir los datos en conjuntos de entrenamiento y test.\n",
    "# from sklearn.model_selection import train_test_split"
   ]
  },
  {
   "cell_type": "code",
   "execution_count": 16,
   "metadata": {},
   "outputs": [],
   "source": [
    "# Extracción de las muestras de entrenamiento (X_train, y_train) y de prueba (X_test, y_test).\n",
    "# Se ha establecido un porcentaje del 70% para el entrenamiento y un 30% para evaluar el modelo.\n",
    "# X_train, X_test, y_train, y_test = train_test_split(X, y, test_size=0.3, random_state=0)"
   ]
  },
  {
   "cell_type": "code",
   "execution_count": 17,
   "metadata": {},
   "outputs": [],
   "source": [
    "# Importación del paquete que contiene el modelo a utilizar.\n",
    "from sklearn.naive_bayes import GaussianNB\n",
    "\n",
    "# Creación del modelo (se establece var_smoothing=0.001, de igual manera que se describe en el artículo)\n",
    "model = GaussianNB(var_smoothing=0.001)"
   ]
  },
  {
   "cell_type": "code",
   "execution_count": 18,
   "metadata": {},
   "outputs": [
    {
     "name": "stdout",
     "output_type": "stream",
     "text": [
      "El número medio de observaciones será de 51887.\n"
     ]
    }
   ],
   "source": [
    "# Calcular n (número medio de observaciones por alternativa).\n",
    "# Este valor se utilizará en el balanceo de las muestras.\n",
    "\n",
    "k = 10\n",
    "\n",
    "n_max = int(round((float(len(data.index))*(k-1)/k) / (data.mode_main.value_counts().size), 0))\n",
    "print \"El número medio de observaciones será de \" + str(n_max) + \".\""
   ]
  },
  {
   "cell_type": "code",
   "execution_count": 19,
   "metadata": {},
   "outputs": [],
   "source": [
    "# Importación de los paquetes necesarios para la realización del k-fold y cálculo de la sensibilidad.\n",
    "from sklearn.model_selection import KFold\n",
    "from sklearn.metrics import recall_score\n",
    "import numpy as np"
   ]
  },
  {
   "cell_type": "code",
   "execution_count": 20,
   "metadata": {
    "scrolled": false
   },
   "outputs": [
    {
     "name": "stdout",
     "output_type": "stream",
     "text": [
      "------Iteración 1------\n",
      "La alternativa 1 presenta 51077 muestras. Se procede a replicar de manera aleatoria 810 muestras.\n",
      "Ahora la alternativa 1 se encuentra balanceada con 51887 muestras.\n",
      "\n",
      "La alternativa 2 presenta 114724 muestras. Se procede a eliminar de manera aleatoria 62837 muestras.\n",
      "Ahora la alternativa 2 se encuentra balanceada con 51887 muestras.\n",
      "\n",
      "La alternativa 3 presenta 8597 muestras. Se procede a replicar de manera aleatoria 43290 muestras.\n",
      "Ahora la alternativa 3 se encuentra balanceada con 51887 muestras.\n",
      "\n",
      "La alternativa 4 presenta 33149 muestras. Se procede a replicar de manera aleatoria 18738 muestras.\n",
      "Ahora la alternativa 4 se encuentra balanceada con 51887 muestras.\n",
      "\n"
     ]
    },
    {
     "name": "stderr",
     "output_type": "stream",
     "text": [
      "/anaconda2/lib/python2.7/site-packages/sklearn/utils/validation.py:761: DataConversionWarning: A column-vector y was passed when a 1d array was expected. Please change the shape of y to (n_samples, ), for example using ravel().\n",
      "  y = column_or_1d(y, warn=True)\n"
     ]
    },
    {
     "name": "stdout",
     "output_type": "stream",
     "text": [
      "------Iteración 2------\n",
      "La alternativa 1 presenta 50451 muestras. Se procede a replicar de manera aleatoria 1436 muestras.\n",
      "Ahora la alternativa 1 se encuentra balanceada con 51887 muestras.\n",
      "\n",
      "La alternativa 2 presenta 114855 muestras. Se procede a eliminar de manera aleatoria 62968 muestras.\n",
      "Ahora la alternativa 2 se encuentra balanceada con 51887 muestras.\n",
      "\n",
      "La alternativa 3 presenta 8542 muestras. Se procede a replicar de manera aleatoria 43345 muestras.\n",
      "Ahora la alternativa 3 se encuentra balanceada con 51887 muestras.\n",
      "\n",
      "La alternativa 4 presenta 33699 muestras. Se procede a replicar de manera aleatoria 18188 muestras.\n",
      "Ahora la alternativa 4 se encuentra balanceada con 51887 muestras.\n",
      "\n"
     ]
    },
    {
     "name": "stderr",
     "output_type": "stream",
     "text": [
      "/anaconda2/lib/python2.7/site-packages/sklearn/utils/validation.py:761: DataConversionWarning: A column-vector y was passed when a 1d array was expected. Please change the shape of y to (n_samples, ), for example using ravel().\n",
      "  y = column_or_1d(y, warn=True)\n"
     ]
    },
    {
     "name": "stdout",
     "output_type": "stream",
     "text": [
      "------Iteración 3------\n",
      "La alternativa 1 presenta 50712 muestras. Se procede a replicar de manera aleatoria 1175 muestras.\n",
      "Ahora la alternativa 1 se encuentra balanceada con 51887 muestras.\n",
      "\n",
      "La alternativa 2 presenta 114449 muestras. Se procede a eliminar de manera aleatoria 62562 muestras.\n",
      "Ahora la alternativa 2 se encuentra balanceada con 51887 muestras.\n",
      "\n",
      "La alternativa 3 presenta 8505 muestras. Se procede a replicar de manera aleatoria 43382 muestras.\n",
      "Ahora la alternativa 3 se encuentra balanceada con 51887 muestras.\n",
      "\n",
      "La alternativa 4 presenta 33881 muestras. Se procede a replicar de manera aleatoria 18006 muestras.\n",
      "Ahora la alternativa 4 se encuentra balanceada con 51887 muestras.\n",
      "\n"
     ]
    },
    {
     "name": "stderr",
     "output_type": "stream",
     "text": [
      "/anaconda2/lib/python2.7/site-packages/sklearn/utils/validation.py:761: DataConversionWarning: A column-vector y was passed when a 1d array was expected. Please change the shape of y to (n_samples, ), for example using ravel().\n",
      "  y = column_or_1d(y, warn=True)\n"
     ]
    },
    {
     "name": "stdout",
     "output_type": "stream",
     "text": [
      "------Iteración 4------\n",
      "La alternativa 1 presenta 51434 muestras. Se procede a replicar de manera aleatoria 453 muestras.\n",
      "Ahora la alternativa 1 se encuentra balanceada con 51887 muestras.\n",
      "\n",
      "La alternativa 2 presenta 114065 muestras. Se procede a eliminar de manera aleatoria 62178 muestras.\n",
      "Ahora la alternativa 2 se encuentra balanceada con 51887 muestras.\n",
      "\n",
      "La alternativa 3 presenta 8695 muestras. Se procede a replicar de manera aleatoria 43192 muestras.\n",
      "Ahora la alternativa 3 se encuentra balanceada con 51887 muestras.\n",
      "\n",
      "La alternativa 4 presenta 33353 muestras. Se procede a replicar de manera aleatoria 18534 muestras.\n",
      "Ahora la alternativa 4 se encuentra balanceada con 51887 muestras.\n",
      "\n"
     ]
    },
    {
     "name": "stderr",
     "output_type": "stream",
     "text": [
      "/anaconda2/lib/python2.7/site-packages/sklearn/utils/validation.py:761: DataConversionWarning: A column-vector y was passed when a 1d array was expected. Please change the shape of y to (n_samples, ), for example using ravel().\n",
      "  y = column_or_1d(y, warn=True)\n"
     ]
    },
    {
     "name": "stdout",
     "output_type": "stream",
     "text": [
      "------Iteración 5------\n",
      "La alternativa 1 presenta 50087 muestras. Se procede a replicar de manera aleatoria 1800 muestras.\n",
      "Ahora la alternativa 1 se encuentra balanceada con 51887 muestras.\n",
      "\n",
      "La alternativa 2 presenta 115207 muestras. Se procede a eliminar de manera aleatoria 63320 muestras.\n",
      "Ahora la alternativa 2 se encuentra balanceada con 51887 muestras.\n",
      "\n",
      "La alternativa 3 presenta 8183 muestras. Se procede a replicar de manera aleatoria 43704 muestras.\n",
      "Ahora la alternativa 3 se encuentra balanceada con 51887 muestras.\n",
      "\n",
      "La alternativa 4 presenta 34070 muestras. Se procede a replicar de manera aleatoria 17817 muestras.\n",
      "Ahora la alternativa 4 se encuentra balanceada con 51887 muestras.\n",
      "\n"
     ]
    },
    {
     "name": "stderr",
     "output_type": "stream",
     "text": [
      "/anaconda2/lib/python2.7/site-packages/sklearn/utils/validation.py:761: DataConversionWarning: A column-vector y was passed when a 1d array was expected. Please change the shape of y to (n_samples, ), for example using ravel().\n",
      "  y = column_or_1d(y, warn=True)\n"
     ]
    },
    {
     "name": "stdout",
     "output_type": "stream",
     "text": [
      "------Iteración 6------\n",
      "La alternativa 1 presenta 50521 muestras. Se procede a replicar de manera aleatoria 1366 muestras.\n",
      "Ahora la alternativa 1 se encuentra balanceada con 51887 muestras.\n",
      "\n",
      "La alternativa 2 presenta 114749 muestras. Se procede a eliminar de manera aleatoria 62862 muestras.\n",
      "Ahora la alternativa 2 se encuentra balanceada con 51887 muestras.\n",
      "\n",
      "La alternativa 3 presenta 8111 muestras. Se procede a replicar de manera aleatoria 43776 muestras.\n",
      "Ahora la alternativa 3 se encuentra balanceada con 51887 muestras.\n",
      "\n",
      "La alternativa 4 presenta 34166 muestras. Se procede a replicar de manera aleatoria 17721 muestras.\n",
      "Ahora la alternativa 4 se encuentra balanceada con 51887 muestras.\n",
      "\n"
     ]
    },
    {
     "name": "stderr",
     "output_type": "stream",
     "text": [
      "/anaconda2/lib/python2.7/site-packages/sklearn/utils/validation.py:761: DataConversionWarning: A column-vector y was passed when a 1d array was expected. Please change the shape of y to (n_samples, ), for example using ravel().\n",
      "  y = column_or_1d(y, warn=True)\n"
     ]
    },
    {
     "name": "stdout",
     "output_type": "stream",
     "text": [
      "------Iteración 7------\n",
      "La alternativa 1 presenta 51249 muestras. Se procede a replicar de manera aleatoria 638 muestras.\n",
      "Ahora la alternativa 1 se encuentra balanceada con 51887 muestras.\n",
      "\n",
      "La alternativa 2 presenta 114147 muestras. Se procede a eliminar de manera aleatoria 62260 muestras.\n",
      "Ahora la alternativa 2 se encuentra balanceada con 51887 muestras.\n",
      "\n",
      "La alternativa 3 presenta 8539 muestras. Se procede a replicar de manera aleatoria 43348 muestras.\n",
      "Ahora la alternativa 3 se encuentra balanceada con 51887 muestras.\n",
      "\n",
      "La alternativa 4 presenta 33612 muestras. Se procede a replicar de manera aleatoria 18275 muestras.\n",
      "Ahora la alternativa 4 se encuentra balanceada con 51887 muestras.\n",
      "\n"
     ]
    },
    {
     "name": "stderr",
     "output_type": "stream",
     "text": [
      "/anaconda2/lib/python2.7/site-packages/sklearn/utils/validation.py:761: DataConversionWarning: A column-vector y was passed when a 1d array was expected. Please change the shape of y to (n_samples, ), for example using ravel().\n",
      "  y = column_or_1d(y, warn=True)\n"
     ]
    },
    {
     "name": "stdout",
     "output_type": "stream",
     "text": [
      "------Iteración 8------\n",
      "La alternativa 1 presenta 49972 muestras. Se procede a replicar de manera aleatoria 1915 muestras.\n",
      "Ahora la alternativa 1 se encuentra balanceada con 51887 muestras.\n",
      "\n",
      "La alternativa 2 presenta 115455 muestras. Se procede a eliminar de manera aleatoria 63568 muestras.\n",
      "Ahora la alternativa 2 se encuentra balanceada con 51887 muestras.\n",
      "\n",
      "La alternativa 3 presenta 8156 muestras. Se procede a replicar de manera aleatoria 43731 muestras.\n",
      "Ahora la alternativa 3 se encuentra balanceada con 51887 muestras.\n",
      "\n",
      "La alternativa 4 presenta 33964 muestras. Se procede a replicar de manera aleatoria 17923 muestras.\n",
      "Ahora la alternativa 4 se encuentra balanceada con 51887 muestras.\n",
      "\n"
     ]
    },
    {
     "name": "stderr",
     "output_type": "stream",
     "text": [
      "/anaconda2/lib/python2.7/site-packages/sklearn/utils/validation.py:761: DataConversionWarning: A column-vector y was passed when a 1d array was expected. Please change the shape of y to (n_samples, ), for example using ravel().\n",
      "  y = column_or_1d(y, warn=True)\n"
     ]
    },
    {
     "name": "stdout",
     "output_type": "stream",
     "text": [
      "------Iteración 9------\n",
      "La alternativa 1 presenta 50257 muestras. Se procede a replicar de manera aleatoria 1630 muestras.\n",
      "Ahora la alternativa 1 se encuentra balanceada con 51887 muestras.\n",
      "\n",
      "La alternativa 2 presenta 115147 muestras. Se procede a eliminar de manera aleatoria 63260 muestras.\n",
      "Ahora la alternativa 2 se encuentra balanceada con 51887 muestras.\n",
      "\n",
      "La alternativa 3 presenta 8024 muestras. Se procede a replicar de manera aleatoria 43863 muestras.\n",
      "Ahora la alternativa 3 se encuentra balanceada con 51887 muestras.\n",
      "\n",
      "La alternativa 4 presenta 34120 muestras. Se procede a replicar de manera aleatoria 17767 muestras.\n",
      "Ahora la alternativa 4 se encuentra balanceada con 51887 muestras.\n",
      "\n"
     ]
    },
    {
     "name": "stderr",
     "output_type": "stream",
     "text": [
      "/anaconda2/lib/python2.7/site-packages/sklearn/utils/validation.py:761: DataConversionWarning: A column-vector y was passed when a 1d array was expected. Please change the shape of y to (n_samples, ), for example using ravel().\n",
      "  y = column_or_1d(y, warn=True)\n"
     ]
    },
    {
     "name": "stdout",
     "output_type": "stream",
     "text": [
      "------Iteración 10------\n",
      "La alternativa 1 presenta 50922 muestras. Se procede a replicar de manera aleatoria 965 muestras.\n",
      "Ahora la alternativa 1 se encuentra balanceada con 51887 muestras.\n",
      "\n",
      "La alternativa 2 presenta 114153 muestras. Se procede a eliminar de manera aleatoria 62266 muestras.\n",
      "Ahora la alternativa 2 se encuentra balanceada con 51887 muestras.\n",
      "\n",
      "La alternativa 3 presenta 8348 muestras. Se procede a replicar de manera aleatoria 43539 muestras.\n",
      "Ahora la alternativa 3 se encuentra balanceada con 51887 muestras.\n",
      "\n",
      "La alternativa 4 presenta 34125 muestras. Se procede a replicar de manera aleatoria 17762 muestras.\n",
      "Ahora la alternativa 4 se encuentra balanceada con 51887 muestras.\n",
      "\n"
     ]
    },
    {
     "name": "stderr",
     "output_type": "stream",
     "text": [
      "/anaconda2/lib/python2.7/site-packages/sklearn/utils/validation.py:761: DataConversionWarning: A column-vector y was passed when a 1d array was expected. Please change the shape of y to (n_samples, ), for example using ravel().\n",
      "  y = column_or_1d(y, warn=True)\n"
     ]
    }
   ],
   "source": [
    "kfold = KFold(n_splits=10, random_state=0)\n",
    "iteracion = 1\n",
    "\n",
    "data_bl_kfoldTrain = pd.DataFrame()\n",
    "aux = pd.DataFrame()\n",
    "\n",
    "scores = []\n",
    "sensibilidades = []\n",
    "\n",
    "for train_index, test_index in kfold.split(data):\n",
    "    data_ub_kfoldTrain = data.iloc[train_index]\n",
    "    data_kfoldTest = data.iloc[test_index]\n",
    "    \n",
    "    print \"------Iteración \" + str(iteracion) + \"------\"\n",
    "    \n",
    "    for mode_main in range(1, data_ub_kfoldTrain['mode_main'].nunique()+1):\n",
    "        n_muestras = (data_ub_kfoldTrain['mode_main'] == mode_main).sum()\n",
    "        \n",
    "        if (n_muestras > n_max):\n",
    "            n_rows_delete = n_muestras - n_max\n",
    "            print \"La alternativa \" + str(mode_main) + \" presenta \" + str(n_muestras) + \" muestras. \" + \\\n",
    "            \"Se procede a eliminar de manera aleatoria \" + str(n_rows_delete) + \" muestras.\"\n",
    "            \n",
    "            muestras_alternativa = data_ub_kfoldTrain.loc[data_ub_kfoldTrain['mode_main'] == mode_main]\n",
    "            aux = muestras_alternativa.sample(n=n_max, replace=False, random_state=1)\n",
    "            data_bl_kfoldTrain = data_bl_kfoldTrain.append(aux)\n",
    "            \n",
    "            print \"Ahora la alternativa \" + str(mode_main) + \" se encuentra balanceada con \" + str((data_bl_kfoldTrain['mode_main'] == mode_main).sum()) + \" muestras.\\n\"\n",
    "        elif (n_muestras < n_max):\n",
    "            n_rows_add = n_max - n_muestras\n",
    "            print \"La alternativa \" + str(mode_main) + \" presenta \" + str(n_muestras) + \" muestras. \" + \\\n",
    "            \"Se procede a replicar de manera aleatoria \" + str(n_rows_add) + \" muestras.\"\n",
    "            \n",
    "            muestras_alternativa = data_ub_kfoldTrain.loc[data_ub_kfoldTrain['mode_main'] == mode_main]\n",
    "            aux = muestras_alternativa.sample(n=n_max, replace=True, random_state=1)\n",
    "            data_bl_kfoldTrain = data_bl_kfoldTrain.append(aux)\n",
    "            \n",
    "            print \"Ahora la alternativa \" + str(mode_main) + \" se encuentra balanceada con \" + str((data_bl_kfoldTrain['mode_main'] == mode_main).sum()) + \" muestras.\\n\"\n",
    "    \n",
    "    X_train = data_bl_kfoldTrain[pred_caract]\n",
    "    y_train = data_bl_kfoldTrain[target]\n",
    "    X_test = data_kfoldTest[pred_caract]\n",
    "    y_test = data_kfoldTest[target]\n",
    "    \n",
    "    # Entrenar el modelo\n",
    "    model.fit(X_train, y_train)\n",
    "\n",
    "    # Predicción\n",
    "    y_pred = model.predict(X_test)\n",
    "    \n",
    "    scores.append(model.score(X_test, y_test))\n",
    "    sensibilidades.append(recall_score(y_test, y_pred, average=None))\n",
    "    \n",
    "    data_bl_kfoldTrain.drop(data_bl_kfoldTrain.index, inplace=True)\n",
    "    iteracion += 1\n",
    "    "
   ]
  },
  {
   "cell_type": "code",
   "execution_count": 21,
   "metadata": {},
   "outputs": [],
   "source": [
    "# Cálculo de las sensibilidades medias de cada una de las alternativas teniendo en cuenta las 10 iteraciones\n",
    "# realizadas anteriormente con k-fold.\n",
    "sens_avg = []\n",
    "\n",
    "for alternativa in range(0, data_ub_kfoldTrain['mode_main'].nunique()):\n",
    "    aux = []\n",
    "    \n",
    "    for fold in range(len(sensibilidades)):\n",
    "        aux.append(sensibilidades[fold][alternativa])\n",
    "    \n",
    "    sens_avg.append(np.mean(aux))"
   ]
  },
  {
   "cell_type": "code",
   "execution_count": 22,
   "metadata": {},
   "outputs": [
    {
     "name": "stdout",
     "output_type": "stream",
     "text": [
      "Precisión media tras 10 'folds': 0.38973921384188165\n",
      "Sensibilidad media por cada clase: [0.254708371395498, 0.31660361548127564, 0.3963975566608947, 0.8386537699502818]\n"
     ]
    }
   ],
   "source": [
    "print \"Precisión media tras 10 'folds': \" + str(np.mean(scores))\n",
    "print \"Sensibilidad media por cada clase: \" + str(sens_avg)"
   ]
  },
  {
   "cell_type": "markdown",
   "metadata": {},
   "source": [
    "Atendiendo a los resultados de la precisión media y de la sensibilidad de cada una de las alternativas, se observa que la precisión se encuentra ligeramente por debajo en comparación con lo mostrado en el artículo, donde se sitúa en alrededor de un 60%.\n",
    "\n",
    "En cuanto a la sensibilidad media de cada alternativa, se puede concluir que la que más acumula es la cuarta que, en este caso, corresponde con la alternativa \"walk\". El resto de alternativas presenta una sensibilidad menor a lo largo de las iteraciones."
   ]
  },
  {
   "cell_type": "markdown",
   "metadata": {},
   "source": [
    "# Cajón de sastre"
   ]
  },
  {
   "cell_type": "code",
   "execution_count": null,
   "metadata": {},
   "outputs": [],
   "source": [
    "el_1 = data_sample.loc[data_sample['mode_main'] == 1]\n",
    "el_2 = data_sample.loc[data_sample['mode_main'] == 2]\n",
    "el_3 = data_sample.loc[data_sample['mode_main'] == 3]\n",
    "el_4 = data_sample.loc[data_sample['mode_main'] == 4]\n",
    "\n",
    "print (el_1.shape)\n",
    "print (el_2.shape)\n",
    "print (el_3.shape)\n",
    "print (el_4.shape)"
   ]
  }
 ],
 "metadata": {
  "kernelspec": {
   "display_name": "Python 2",
   "language": "python",
   "name": "python2"
  },
  "language_info": {
   "codemirror_mode": {
    "name": "ipython",
    "version": 2
   },
   "file_extension": ".py",
   "mimetype": "text/x-python",
   "name": "python",
   "nbconvert_exporter": "python",
   "pygments_lexer": "ipython2",
   "version": "2.7.15"
  }
 },
 "nbformat": 4,
 "nbformat_minor": 2
}
